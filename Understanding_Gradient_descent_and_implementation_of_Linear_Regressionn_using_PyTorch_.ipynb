{
  "nbformat": 4,
  "nbformat_minor": 0,
  "metadata": {
    "colab": {
      "name": "Understanding Gradient descent and implementation of Linear Regressionn using PyTorch.",
      "provenance": [],
      "collapsed_sections": [],
      "authorship_tag": "ABX9TyOH4yCUZrYzg4/qlkOaYug6",
      "include_colab_link": true
    },
    "kernelspec": {
      "name": "python3",
      "display_name": "Python 3"
    }
  },
  "cells": [
    {
      "cell_type": "markdown",
      "metadata": {
        "id": "view-in-github",
        "colab_type": "text"
      },
      "source": [
        "<a href=\"https://colab.research.google.com/github/psssnikhil/DeepLearning-with-pytorch/blob/master/Understanding_Gradient_descent_and_implementation_of_Linear_Regressionn_using_PyTorch_.ipynb\" target=\"_parent\"><img src=\"https://colab.research.google.com/assets/colab-badge.svg\" alt=\"Open In Colab\"/></a>"
      ]
    },
    {
      "cell_type": "code",
      "metadata": {
        "id": "KtOUnHRVKzma",
        "colab_type": "code",
        "colab": {}
      },
      "source": [
        "import numpy as np\n",
        "import torch\n"
      ],
      "execution_count": 0,
      "outputs": []
    },
    {
      "cell_type": "markdown",
      "metadata": {
        "id": "X_r-wz2QLaCO",
        "colab_type": "text"
      },
      "source": [
        "Once the Torch is imported.Now let us inout some data.ie suppose if in linear regression the equation y1=w11*x1+w12*x2+w13*x3+b1 and y2=w21*x1+w22*x2+w23*x3+b2 ie we are finding the independent variable using the dependent variables like x1,x2,x3 which are the inputs to the model."
      ]
    },
    {
      "cell_type": "code",
      "metadata": {
        "id": "6P3O95o8LJJB",
        "colab_type": "code",
        "colab": {}
      },
      "source": [
        "inputs = np.array([[73, 67, 43], \n",
        "                   [91, 88, 64], \n",
        "                   [87, 134, 58], \n",
        "                   [102, 43, 37], \n",
        "                   [69, 96, 70]], dtype='float32')\n",
        "\n",
        "targets = np.array([[56, 70], \n",
        "                    [81, 101], \n",
        "                    [119, 133], \n",
        "                    [22, 37], \n",
        "                    [103, 119]], dtype='float32')"
      ],
      "execution_count": 0,
      "outputs": []
    },
    {
      "cell_type": "code",
      "metadata": {
        "id": "YNaHZmBoMSMb",
        "colab_type": "code",
        "colab": {
          "base_uri": "https://localhost:8080/",
          "height": 187
        },
        "outputId": "10d4adb9-7289-44e6-c4b2-27d31b51243f"
      },
      "source": [
        "inputs=torch.from_numpy(inputs)\n",
        "targets=torch.from_numpy(targets)\n",
        "print(inputs)\n",
        "print(targets)"
      ],
      "execution_count": 70,
      "outputs": [
        {
          "output_type": "stream",
          "text": [
            "tensor([[ 73.,  67.,  43.],\n",
            "        [ 91.,  88.,  64.],\n",
            "        [ 87., 134.,  58.],\n",
            "        [102.,  43.,  37.],\n",
            "        [ 69.,  96.,  70.]])\n",
            "tensor([[ 56.,  70.],\n",
            "        [ 81., 101.],\n",
            "        [119., 133.],\n",
            "        [ 22.,  37.],\n",
            "        [103., 119.]])\n"
          ],
          "name": "stdout"
        }
      ]
    },
    {
      "cell_type": "code",
      "metadata": {
        "id": "cqCUAbzqMnvK",
        "colab_type": "code",
        "colab": {
          "base_uri": "https://localhost:8080/",
          "height": 68
        },
        "outputId": "9ffad80c-d517-4d9a-ec5a-754701a92db9"
      },
      "source": [
        "#its time to assign weights and biases\n",
        "w=torch.randn(2,3,requires_grad=True)\n",
        "b=torch.randn(2,requires_grad=True)\n",
        "print(w)\n",
        "print(b)"
      ],
      "execution_count": 71,
      "outputs": [
        {
          "output_type": "stream",
          "text": [
            "tensor([[-0.1709,  0.0519, -0.4027],\n",
            "        [-1.0139,  1.1941, -0.3791]], requires_grad=True)\n",
            "tensor([2.5182, 0.1430], requires_grad=True)\n"
          ],
          "name": "stdout"
        }
      ]
    },
    {
      "cell_type": "code",
      "metadata": {
        "id": "Mko9AGrZNzRB",
        "colab_type": "code",
        "colab": {}
      },
      "source": [
        "def model(x):\n",
        "  return x @ w.t()+b"
      ],
      "execution_count": 0,
      "outputs": []
    },
    {
      "cell_type": "code",
      "metadata": {
        "id": "ZqjtCSeXPA_e",
        "colab_type": "code",
        "colab": {
          "base_uri": "https://localhost:8080/",
          "height": 187
        },
        "outputId": "04cfb519-556d-4f96-a322-705f331e8506"
      },
      "source": [
        "preds=model(inputs)\n",
        "print(targets)\n",
        "print(preds)"
      ],
      "execution_count": 73,
      "outputs": [
        {
          "output_type": "stream",
          "text": [
            "tensor([[ 56.,  70.],\n",
            "        [ 81., 101.],\n",
            "        [119., 133.],\n",
            "        [ 22.,  37.],\n",
            "        [103., 119.]])\n",
            "tensor([[-23.7982, -10.1698],\n",
            "        [-34.2419, -11.3059],\n",
            "        [-28.7524,  49.9518],\n",
            "        [-27.5857, -65.9550],\n",
            "        [-32.4821,  18.2771]], grad_fn=<AddBackward0>)\n"
          ],
          "name": "stdout"
        }
      ]
    },
    {
      "cell_type": "code",
      "metadata": {
        "id": "zHghMC3bPEzl",
        "colab_type": "code",
        "colab": {}
      },
      "source": [
        "#Taking mse\n",
        "def mse(targets,preds):\n",
        "  diff=targets-preds\n",
        "  diff_sqr=diff**2\n",
        "  return torch.sum(diff_sqr)/diff_sqr.numel()"
      ],
      "execution_count": 0,
      "outputs": []
    },
    {
      "cell_type": "code",
      "metadata": {
        "id": "WRlr8HbBPrE2",
        "colab_type": "code",
        "colab": {
          "base_uri": "https://localhost:8080/",
          "height": 34
        },
        "outputId": "eb1876c8-0d19-4323-f2b8-44470ccb05b6"
      },
      "source": [
        "loss=mse(targets,preds)\n",
        "print(loss)"
      ],
      "execution_count": 75,
      "outputs": [
        {
          "output_type": "stream",
          "text": [
            "tensor(10897.4980, grad_fn=<DivBackward0>)\n"
          ],
          "name": "stdout"
        }
      ]
    },
    {
      "cell_type": "code",
      "metadata": {
        "id": "zWqClv3uQcvM",
        "colab_type": "code",
        "colab": {}
      },
      "source": [
        "loss.backward()"
      ],
      "execution_count": 0,
      "outputs": []
    },
    {
      "cell_type": "code",
      "metadata": {
        "id": "hmgweWACQp9S",
        "colab_type": "code",
        "colab": {
          "base_uri": "https://localhost:8080/",
          "height": 85
        },
        "outputId": "1c70eb27-ec3a-4be8-bca2-f5bb5bc9e13d"
      },
      "source": [
        "print(w)\n",
        "print(w.grad)"
      ],
      "execution_count": 77,
      "outputs": [
        {
          "output_type": "stream",
          "text": [
            "tensor([[-0.1709,  0.0519, -0.4027],\n",
            "        [-1.0139,  1.1941, -0.3791]], requires_grad=True)\n",
            "tensor([[ -8714.5479, -10085.0098,  -6138.9717],\n",
            "        [ -8149.7427,  -8095.8423,  -5262.3223]])\n"
          ],
          "name": "stdout"
        }
      ]
    },
    {
      "cell_type": "code",
      "metadata": {
        "id": "48GlKQMZQvp0",
        "colab_type": "code",
        "colab": {
          "base_uri": "https://localhost:8080/",
          "height": 51
        },
        "outputId": "b036f33a-ce6f-491d-9cfe-ab15bead557b"
      },
      "source": [
        "print(b)\n",
        "print(b.grad)"
      ],
      "execution_count": 78,
      "outputs": [
        {
          "output_type": "stream",
          "text": [
            "tensor([2.5182, 0.1430], requires_grad=True)\n",
            "tensor([-105.5720,  -95.8403])\n"
          ],
          "name": "stdout"
        }
      ]
    },
    {
      "cell_type": "code",
      "metadata": {
        "id": "eST2e0kAQx73",
        "colab_type": "code",
        "colab": {
          "base_uri": "https://localhost:8080/",
          "height": 68
        },
        "outputId": "3f3aa092-739a-43a5-adeb-3d014cb443fc"
      },
      "source": [
        "#now let us reset the Gradients\n",
        "w.grad.zero_()\n",
        "b.grad.zero_()\n",
        "print(w.grad)\n",
        "print(b.grad)"
      ],
      "execution_count": 79,
      "outputs": [
        {
          "output_type": "stream",
          "text": [
            "tensor([[0., 0., 0.],\n",
            "        [0., 0., 0.]])\n",
            "tensor([0., 0.])\n"
          ],
          "name": "stdout"
        }
      ]
    },
    {
      "cell_type": "code",
      "metadata": {
        "id": "9BR0HvEGRluR",
        "colab_type": "code",
        "colab": {
          "base_uri": "https://localhost:8080/",
          "height": 102
        },
        "outputId": "5f03ca5c-1dba-45fc-990e-d726f54d91b9"
      },
      "source": [
        "preds=model(inputs)\n",
        "print(preds)"
      ],
      "execution_count": 80,
      "outputs": [
        {
          "output_type": "stream",
          "text": [
            "tensor([[-23.7982, -10.1698],\n",
            "        [-34.2419, -11.3059],\n",
            "        [-28.7524,  49.9518],\n",
            "        [-27.5857, -65.9550],\n",
            "        [-32.4821,  18.2771]], grad_fn=<AddBackward0>)\n"
          ],
          "name": "stdout"
        }
      ]
    },
    {
      "cell_type": "code",
      "metadata": {
        "id": "nRWC3PN3RznZ",
        "colab_type": "code",
        "colab": {
          "base_uri": "https://localhost:8080/",
          "height": 34
        },
        "outputId": "ec7ceb78-6517-47a9-b128-abff80ec4881"
      },
      "source": [
        "loss=mse(targets,preds)\n",
        "print(loss)"
      ],
      "execution_count": 81,
      "outputs": [
        {
          "output_type": "stream",
          "text": [
            "tensor(10897.4980, grad_fn=<DivBackward0>)\n"
          ],
          "name": "stdout"
        }
      ]
    },
    {
      "cell_type": "code",
      "metadata": {
        "id": "Yy8_0Mc1R8_t",
        "colab_type": "code",
        "colab": {
          "base_uri": "https://localhost:8080/",
          "height": 68
        },
        "outputId": "a410ef3d-ae71-4876-8d1e-929d5dae38ac"
      },
      "source": [
        "loss.backward()\n",
        "print(w.grad)\n",
        "print(b.grad)"
      ],
      "execution_count": 82,
      "outputs": [
        {
          "output_type": "stream",
          "text": [
            "tensor([[ -8714.5479, -10085.0098,  -6138.9717],\n",
            "        [ -8149.7427,  -8095.8423,  -5262.3223]])\n",
            "tensor([-105.5720,  -95.8403])\n"
          ],
          "name": "stdout"
        }
      ]
    },
    {
      "cell_type": "code",
      "metadata": {
        "id": "uuvMv57dWQ3w",
        "colab_type": "code",
        "colab": {
          "base_uri": "https://localhost:8080/",
          "height": 68
        },
        "outputId": "5ef5c6e5-b022-4066-9d8c-16e8ae6cfa66"
      },
      "source": [
        "print(w)\n",
        "print(b)"
      ],
      "execution_count": 83,
      "outputs": [
        {
          "output_type": "stream",
          "text": [
            "tensor([[-0.1709,  0.0519, -0.4027],\n",
            "        [-1.0139,  1.1941, -0.3791]], requires_grad=True)\n",
            "tensor([2.5182, 0.1430], requires_grad=True)\n"
          ],
          "name": "stdout"
        }
      ]
    },
    {
      "cell_type": "code",
      "metadata": {
        "id": "ukG_OxG-SEUI",
        "colab_type": "code",
        "colab": {}
      },
      "source": [
        "with torch.no_grad():\n",
        "  w-=w.grad*1e-5\n",
        "  b-=b.grad*1e-5\n",
        "  w.grad.zero_()\n",
        "  b.grad.zero_()\n"
      ],
      "execution_count": 0,
      "outputs": []
    },
    {
      "cell_type": "code",
      "metadata": {
        "id": "UvdX0krKSpk7",
        "colab_type": "code",
        "colab": {
          "base_uri": "https://localhost:8080/",
          "height": 119
        },
        "outputId": "f8c4a5ae-a796-448d-819f-5672d4e24e67"
      },
      "source": [
        "print(w.grad)\n",
        "print(b.grad)\n",
        "print(w)\n",
        "print(b)\n"
      ],
      "execution_count": 85,
      "outputs": [
        {
          "output_type": "stream",
          "text": [
            "tensor([[0., 0., 0.],\n",
            "        [0., 0., 0.]])\n",
            "tensor([0., 0.])\n",
            "tensor([[-0.0838,  0.1528, -0.3413],\n",
            "        [-0.9324,  1.2750, -0.3265]], requires_grad=True)\n",
            "tensor([2.5193, 0.1440], requires_grad=True)\n"
          ],
          "name": "stdout"
        }
      ]
    },
    {
      "cell_type": "code",
      "metadata": {
        "id": "Hbjw2D7OStCa",
        "colab_type": "code",
        "colab": {
          "base_uri": "https://localhost:8080/",
          "height": 187
        },
        "outputId": "f4473adf-883d-4c69-853b-46064eb6f5e0"
      },
      "source": [
        "print(targets)\n",
        "print(preds)"
      ],
      "execution_count": 86,
      "outputs": [
        {
          "output_type": "stream",
          "text": [
            "tensor([[ 56.,  70.],\n",
            "        [ 81., 101.],\n",
            "        [119., 133.],\n",
            "        [ 22.,  37.],\n",
            "        [103., 119.]])\n",
            "tensor([[-23.7982, -10.1698],\n",
            "        [-34.2419, -11.3059],\n",
            "        [-28.7524,  49.9518],\n",
            "        [-27.5857, -65.9550],\n",
            "        [-32.4821,  18.2771]], grad_fn=<AddBackward0>)\n"
          ],
          "name": "stdout"
        }
      ]
    },
    {
      "cell_type": "code",
      "metadata": {
        "id": "pSIBgk7QTTu6",
        "colab_type": "code",
        "colab": {
          "base_uri": "https://localhost:8080/",
          "height": 34
        },
        "outputId": "0417f3f1-a09b-422d-db6a-42cdff13f4e2"
      },
      "source": [
        "preds=model(inputs)\n",
        "loss=mse(targets,preds)\n",
        "print(loss)"
      ],
      "execution_count": 87,
      "outputs": [
        {
          "output_type": "stream",
          "text": [
            "tensor(7482.8018, grad_fn=<DivBackward0>)\n"
          ],
          "name": "stdout"
        }
      ]
    },
    {
      "cell_type": "code",
      "metadata": {
        "id": "iKUlMZ3YXOgp",
        "colab_type": "code",
        "colab": {}
      },
      "source": [
        "for i in range(100):\n",
        "  preds=model(inputs)\n",
        "  loss=mse(targets,preds)\n",
        "  loss.backward()\n",
        "  with torch.no_grad():\n",
        "    w-=w.grad*1e-5\n",
        "    b-=b.grad*1e-5\n",
        "    w.grad.zero_()\n",
        "    b.grad.zero_()"
      ],
      "execution_count": 0,
      "outputs": []
    },
    {
      "cell_type": "code",
      "metadata": {
        "id": "hyKNH6y2Y0vE",
        "colab_type": "code",
        "colab": {
          "base_uri": "https://localhost:8080/",
          "height": 34
        },
        "outputId": "084a3f8c-34fb-4399-88d2-f9d159c0c41b"
      },
      "source": [
        "preds=model(inputs)\n",
        "loss=mse(targets,preds)\n",
        "print(loss)"
      ],
      "execution_count": 89,
      "outputs": [
        {
          "output_type": "stream",
          "text": [
            "tensor(171.3008, grad_fn=<DivBackward0>)\n"
          ],
          "name": "stdout"
        }
      ]
    },
    {
      "cell_type": "code",
      "metadata": {
        "id": "ad6vcoaGZA53",
        "colab_type": "code",
        "colab": {
          "base_uri": "https://localhost:8080/",
          "height": 187
        },
        "outputId": "aaaa130d-29d9-49d5-bbb9-8fc4edf9b089"
      },
      "source": [
        "print(preds)\n",
        "print(targets)"
      ],
      "execution_count": 91,
      "outputs": [
        {
          "output_type": "stream",
          "text": [
            "tensor([[ 61.4157,  68.3020],\n",
            "        [ 79.8556,  91.2246],\n",
            "        [117.2152, 157.6678],\n",
            "        [ 42.8082,  24.3893],\n",
            "        [ 85.6484, 110.1032]], grad_fn=<AddBackward0>)\n",
            "tensor([[ 56.,  70.],\n",
            "        [ 81., 101.],\n",
            "        [119., 133.],\n",
            "        [ 22.,  37.],\n",
            "        [103., 119.]])\n"
          ],
          "name": "stdout"
        }
      ]
    },
    {
      "cell_type": "markdown",
      "metadata": {
        "id": "Z03PG0U1ZLDM",
        "colab_type": "text"
      },
      "source": [
        "HOLA they are close enough.Let us Now sumup everythin by learning linear regression implementation"
      ]
    },
    {
      "cell_type": "code",
      "metadata": {
        "id": "102rguA8ZD1Z",
        "colab_type": "code",
        "colab": {}
      },
      "source": [
        "import torch.nn as nn"
      ],
      "execution_count": 0,
      "outputs": []
    },
    {
      "cell_type": "code",
      "metadata": {
        "id": "6UR6Qh0FZaZN",
        "colab_type": "code",
        "colab": {}
      },
      "source": [
        "inputs = np.array([[73, 67, 43], [91, 88, 64], [87, 134, 58], \n",
        "                   [102, 43, 37], [69, 96, 70], [73, 67, 43], \n",
        "                   [91, 88, 64], [87, 134, 58], [102, 43, 37], \n",
        "                   [69, 96, 70], [73, 67, 43], [91, 88, 64], \n",
        "                   [87, 134, 58], [102, 43, 37], [69, 96, 70]], \n",
        "                  dtype='float32')\n",
        "\n",
        "# Targets (apples, oranges)\n",
        "targets = np.array([[56, 70], [81, 101], [119, 133], \n",
        "                    [22, 37], [103, 119], [56, 70], \n",
        "                    [81, 101], [119, 133], [22, 37], \n",
        "                    [103, 119], [56, 70], [81, 101], \n",
        "                    [119, 133], [22, 37], [103, 119]], \n",
        "                   dtype='float32')\n",
        "\n",
        "inputs = torch.from_numpy(inputs)\n",
        "targets = torch.from_numpy(targets)"
      ],
      "execution_count": 0,
      "outputs": []
    },
    {
      "cell_type": "code",
      "metadata": {
        "id": "CzzqbnWVZcz3",
        "colab_type": "code",
        "colab": {}
      },
      "source": [
        "from torch.utils.data import TensorDataset"
      ],
      "execution_count": 0,
      "outputs": []
    },
    {
      "cell_type": "code",
      "metadata": {
        "id": "YvRJAW28Zl9A",
        "colab_type": "code",
        "colab": {}
      },
      "source": [
        "train_ds=TensorDataset(inputs,targets)\n"
      ],
      "execution_count": 0,
      "outputs": []
    },
    {
      "cell_type": "code",
      "metadata": {
        "id": "yDf3jVZaZ05a",
        "colab_type": "code",
        "colab": {
          "base_uri": "https://localhost:8080/",
          "height": 136
        },
        "outputId": "f7e03a50-c75f-466e-b8bb-70ee747108b6"
      },
      "source": [
        "train_ds[0:4]"
      ],
      "execution_count": 97,
      "outputs": [
        {
          "output_type": "execute_result",
          "data": {
            "text/plain": [
              "(tensor([[ 73.,  67.,  43.],\n",
              "         [ 91.,  88.,  64.],\n",
              "         [ 87., 134.,  58.],\n",
              "         [102.,  43.,  37.]]), tensor([[ 56.,  70.],\n",
              "         [ 81., 101.],\n",
              "         [119., 133.],\n",
              "         [ 22.,  37.]]))"
            ]
          },
          "metadata": {
            "tags": []
          },
          "execution_count": 97
        }
      ]
    },
    {
      "cell_type": "code",
      "metadata": {
        "id": "zyeBeYomZ2l-",
        "colab_type": "code",
        "colab": {}
      },
      "source": [
        "from torch.utils.data import DataLoader"
      ],
      "execution_count": 0,
      "outputs": []
    },
    {
      "cell_type": "code",
      "metadata": {
        "id": "gEvLJ3X4aKOo",
        "colab_type": "code",
        "colab": {
          "base_uri": "https://localhost:8080/",
          "height": 34
        },
        "outputId": "190126e1-e7d6-4051-a0c6-7f16d42e81c6"
      },
      "source": [
        "#define dataloader\n",
        "batch_size=5\n",
        "train_dl=DataLoader(train_ds,batch_size,shuffle=True)\n",
        "print(train_dl)"
      ],
      "execution_count": 99,
      "outputs": [
        {
          "output_type": "stream",
          "text": [
            "<torch.utils.data.dataloader.DataLoader object at 0x7f2f621fb0f0>\n"
          ],
          "name": "stdout"
        }
      ]
    },
    {
      "cell_type": "code",
      "metadata": {
        "id": "K-UCoxkFagcG",
        "colab_type": "code",
        "colab": {
          "base_uri": "https://localhost:8080/",
          "height": 629
        },
        "outputId": "92fa2a4c-1aeb-4e45-b03b-3b3630950b6d"
      },
      "source": [
        "for xb,yb in train_dl:\n",
        "  print('start of batch')\n",
        "  print(xb)\n",
        "  print(yb)\n",
        "  print('End of batch')"
      ],
      "execution_count": 101,
      "outputs": [
        {
          "output_type": "stream",
          "text": [
            "start of batch\n",
            "tensor([[ 87., 134.,  58.],\n",
            "        [ 69.,  96.,  70.],\n",
            "        [ 69.,  96.,  70.],\n",
            "        [ 91.,  88.,  64.],\n",
            "        [ 87., 134.,  58.]])\n",
            "tensor([[119., 133.],\n",
            "        [103., 119.],\n",
            "        [103., 119.],\n",
            "        [ 81., 101.],\n",
            "        [119., 133.]])\n",
            "End of batch\n",
            "start of batch\n",
            "tensor([[102.,  43.,  37.],\n",
            "        [ 69.,  96.,  70.],\n",
            "        [ 91.,  88.,  64.],\n",
            "        [ 73.,  67.,  43.],\n",
            "        [102.,  43.,  37.]])\n",
            "tensor([[ 22.,  37.],\n",
            "        [103., 119.],\n",
            "        [ 81., 101.],\n",
            "        [ 56.,  70.],\n",
            "        [ 22.,  37.]])\n",
            "End of batch\n",
            "start of batch\n",
            "tensor([[ 87., 134.,  58.],\n",
            "        [102.,  43.,  37.],\n",
            "        [ 73.,  67.,  43.],\n",
            "        [ 73.,  67.,  43.],\n",
            "        [ 91.,  88.,  64.]])\n",
            "tensor([[119., 133.],\n",
            "        [ 22.,  37.],\n",
            "        [ 56.,  70.],\n",
            "        [ 56.,  70.],\n",
            "        [ 81., 101.]])\n",
            "End of batch\n"
          ],
          "name": "stdout"
        }
      ]
    },
    {
      "cell_type": "code",
      "metadata": {
        "id": "P5FRYW-lareR",
        "colab_type": "code",
        "colab": {
          "base_uri": "https://localhost:8080/",
          "height": 102
        },
        "outputId": "192f9e1c-5605-4912-ffd0-392ccf0f394b"
      },
      "source": [
        "model=nn.Linear(3,2)\n",
        "print(model.weight)\n",
        "print(model.bias)\n"
      ],
      "execution_count": 102,
      "outputs": [
        {
          "output_type": "stream",
          "text": [
            "Parameter containing:\n",
            "tensor([[-0.1624, -0.4321,  0.0249],\n",
            "        [ 0.4883, -0.2916, -0.0461]], requires_grad=True)\n",
            "Parameter containing:\n",
            "tensor([0.1778, 0.3968], requires_grad=True)\n"
          ],
          "name": "stdout"
        }
      ]
    },
    {
      "cell_type": "code",
      "metadata": {
        "id": "48qrN4IxbHtp",
        "colab_type": "code",
        "colab": {
          "base_uri": "https://localhost:8080/",
          "height": 102
        },
        "outputId": "1f22b86d-4810-4b71-d418-bc459166df75"
      },
      "source": [
        "list(model.parameters())"
      ],
      "execution_count": 103,
      "outputs": [
        {
          "output_type": "execute_result",
          "data": {
            "text/plain": [
              "[Parameter containing:\n",
              " tensor([[-0.1624, -0.4321,  0.0249],\n",
              "         [ 0.4883, -0.2916, -0.0461]], requires_grad=True),\n",
              " Parameter containing:\n",
              " tensor([0.1778, 0.3968], requires_grad=True)]"
            ]
          },
          "metadata": {
            "tags": []
          },
          "execution_count": 103
        }
      ]
    },
    {
      "cell_type": "code",
      "metadata": {
        "id": "t6rWPuZMbOjw",
        "colab_type": "code",
        "colab": {
          "base_uri": "https://localhost:8080/",
          "height": 272
        },
        "outputId": "108f045a-edbd-4a21-affb-6f82a6755847"
      },
      "source": [
        "preds=model(inputs)\n",
        "preds"
      ],
      "execution_count": 104,
      "outputs": [
        {
          "output_type": "execute_result",
          "data": {
            "text/plain": [
              "tensor([[-39.5525,  14.5201],\n",
              "        [-51.0252,  16.2167],\n",
              "        [-70.4008,   1.1256],\n",
              "        [-34.0413,  35.9561],\n",
              "        [-50.7598,   2.8647],\n",
              "        [-39.5525,  14.5201],\n",
              "        [-51.0252,  16.2167],\n",
              "        [-70.4008,   1.1256],\n",
              "        [-34.0413,  35.9561],\n",
              "        [-50.7598,   2.8647],\n",
              "        [-39.5525,  14.5201],\n",
              "        [-51.0252,  16.2167],\n",
              "        [-70.4008,   1.1256],\n",
              "        [-34.0413,  35.9561],\n",
              "        [-50.7598,   2.8647]], grad_fn=<AddmmBackward>)"
            ]
          },
          "metadata": {
            "tags": []
          },
          "execution_count": 104
        }
      ]
    },
    {
      "cell_type": "code",
      "metadata": {
        "id": "Lkkpkx1obSwo",
        "colab_type": "code",
        "colab": {}
      },
      "source": [
        "import torch.nn.functional as F"
      ],
      "execution_count": 0,
      "outputs": []
    },
    {
      "cell_type": "code",
      "metadata": {
        "id": "a3sj4bnFbYB4",
        "colab_type": "code",
        "colab": {}
      },
      "source": [
        "loss_fn=F.mse_loss"
      ],
      "execution_count": 0,
      "outputs": []
    },
    {
      "cell_type": "code",
      "metadata": {
        "id": "6xCyFsDPba5B",
        "colab_type": "code",
        "colab": {
          "base_uri": "https://localhost:8080/",
          "height": 34
        },
        "outputId": "0bd6065e-b8b6-47f7-918b-5a9d71e41583"
      },
      "source": [
        "loss=loss_fn(preds,targets)\n",
        "print(loss)"
      ],
      "execution_count": 108,
      "outputs": [
        {
          "output_type": "stream",
          "text": [
            "tensor(13036.1865, grad_fn=<MseLossBackward>)\n"
          ],
          "name": "stdout"
        }
      ]
    },
    {
      "cell_type": "code",
      "metadata": {
        "id": "6QJ4BP1ibpKW",
        "colab_type": "code",
        "colab": {}
      },
      "source": [
        "#definiing optimizer which manipulates the weights and biases using gradients automatically\n",
        "opt=torch.optim.SGD(model.parameters(),lr=1e-5)"
      ],
      "execution_count": 0,
      "outputs": []
    },
    {
      "cell_type": "code",
      "metadata": {
        "id": "ag2x6S8tcOJZ",
        "colab_type": "code",
        "colab": {}
      },
      "source": [
        "from tqdm import tqdm\n",
        "\n",
        "def fit(num_epochs,model,loss_fn,opt):\n",
        "  for epoch in tqdm(range(num_epochs)):\n",
        "    for xb,yb in train_dl:\n",
        "      pred=model(xb)\n",
        "      loss=loss_fn(pred,yb)\n",
        "      loss.backward()\n",
        "      opt.step()\n",
        "      opt.zero_grad()\n",
        "    if (epoch+1)%10==0:\n",
        "\n",
        "      print('Epoch [{},{}],Loss : {:.4f}'.format(epoch+1,num_epochs,loss.item()))  "
      ],
      "execution_count": 0,
      "outputs": []
    },
    {
      "cell_type": "code",
      "metadata": {
        "id": "Vm3tkJOreH9O",
        "colab_type": "code",
        "colab": {
          "base_uri": "https://localhost:8080/",
          "height": 204
        },
        "outputId": "37061d90-0bc6-4d2e-9971-77e2b7d9be10"
      },
      "source": [
        "fit(100,model,loss_fn,opt)"
      ],
      "execution_count": 121,
      "outputs": [
        {
          "output_type": "stream",
          "text": [
            "100%|██████████| 100/100 [00:00<00:00, 756.11it/s]"
          ],
          "name": "stderr"
        },
        {
          "output_type": "stream",
          "text": [
            "Epoch [10,100],Loss : 3.2155\n",
            "Epoch [20,100],Loss : 1.6150\n",
            "Epoch [30,100],Loss : 1.7290\n",
            "Epoch [40,100],Loss : 2.1081\n",
            "Epoch [50,100],Loss : 1.1115\n",
            "Epoch [60,100],Loss : 1.7043\n",
            "Epoch [70,100],Loss : 1.3115\n",
            "Epoch [80,100],Loss : 1.2176\n",
            "Epoch [90,100],Loss : 1.4318\n",
            "Epoch [100,100],Loss : 1.5486\n"
          ],
          "name": "stdout"
        },
        {
          "output_type": "stream",
          "text": [
            "\n"
          ],
          "name": "stderr"
        }
      ]
    },
    {
      "cell_type": "code",
      "metadata": {
        "id": "yGeQgELoeT_X",
        "colab_type": "code",
        "colab": {
          "base_uri": "https://localhost:8080/",
          "height": 272
        },
        "outputId": "6c819e5a-e740-4bf1-feb6-634ee51e78e0"
      },
      "source": [
        "preds=model(inputs)\n",
        "preds"
      ],
      "execution_count": 122,
      "outputs": [
        {
          "output_type": "execute_result",
          "data": {
            "text/plain": [
              "tensor([[ 57.2441,  70.4820],\n",
              "        [ 81.9692,  99.8337],\n",
              "        [119.2279, 134.6371],\n",
              "        [ 21.2410,  37.4979],\n",
              "        [101.4404, 117.4752],\n",
              "        [ 57.2441,  70.4820],\n",
              "        [ 81.9692,  99.8337],\n",
              "        [119.2279, 134.6371],\n",
              "        [ 21.2410,  37.4979],\n",
              "        [101.4404, 117.4752],\n",
              "        [ 57.2441,  70.4820],\n",
              "        [ 81.9692,  99.8337],\n",
              "        [119.2279, 134.6371],\n",
              "        [ 21.2410,  37.4979],\n",
              "        [101.4404, 117.4752]], grad_fn=<AddmmBackward>)"
            ]
          },
          "metadata": {
            "tags": []
          },
          "execution_count": 122
        }
      ]
    },
    {
      "cell_type": "code",
      "metadata": {
        "id": "OltwLnNvfaMq",
        "colab_type": "code",
        "colab": {
          "base_uri": "https://localhost:8080/",
          "height": 272
        },
        "outputId": "7259255a-1bd6-4e62-f4b2-31eea00f8646"
      },
      "source": [
        "targets"
      ],
      "execution_count": 123,
      "outputs": [
        {
          "output_type": "execute_result",
          "data": {
            "text/plain": [
              "tensor([[ 56.,  70.],\n",
              "        [ 81., 101.],\n",
              "        [119., 133.],\n",
              "        [ 22.,  37.],\n",
              "        [103., 119.],\n",
              "        [ 56.,  70.],\n",
              "        [ 81., 101.],\n",
              "        [119., 133.],\n",
              "        [ 22.,  37.],\n",
              "        [103., 119.],\n",
              "        [ 56.,  70.],\n",
              "        [ 81., 101.],\n",
              "        [119., 133.],\n",
              "        [ 22.,  37.],\n",
              "        [103., 119.]])"
            ]
          },
          "metadata": {
            "tags": []
          },
          "execution_count": 123
        }
      ]
    },
    {
      "cell_type": "markdown",
      "metadata": {
        "id": "950MmstIffSu",
        "colab_type": "text"
      },
      "source": [
        "Here we go.Got the predicitons so closely.u can try out few things if you want.\n",
        "1)Use diff optimizer like Adam etc.\n",
        "2)change numbers of inputs and see\n",
        "3)change the LR\n",
        "4)increase number of epochs\n",
        "5)manipulate or write your own loss function"
      ]
    }
  ]
}