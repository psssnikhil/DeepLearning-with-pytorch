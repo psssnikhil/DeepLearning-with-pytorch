{
  "nbformat": 4,
  "nbformat_minor": 0,
  "metadata": {
    "kernelspec": {
      "display_name": "Python 3",
      "language": "python",
      "name": "python3"
    },
    "language_info": {
      "codemirror_mode": {
        "name": "ipython",
        "version": 3
      },
      "file_extension": ".py",
      "mimetype": "text/x-python",
      "name": "python",
      "nbconvert_exporter": "python",
      "pygments_lexer": "ipython3",
      "version": "3.7.3"
    },
    "colab": {
      "name": "logistic-regression-MNIST-pytorch.ipynb",
      "provenance": [],
      "collapsed_sections": [],
      "include_colab_link": true
    }
  },
  "cells": [
    {
      "cell_type": "markdown",
      "metadata": {
        "id": "view-in-github",
        "colab_type": "text"
      },
      "source": [
        "<a href=\"https://colab.research.google.com/github/psssnikhil/DeepLearning-with-pytorch/blob/master/Logistic_regression_MNIST_pytorch.ipynb\" target=\"_parent\"><img src=\"https://colab.research.google.com/assets/colab-badge.svg\" alt=\"Open In Colab\"/></a>"
      ]
    },
    {
      "cell_type": "markdown",
      "metadata": {
        "id": "gn05l3Z1Vprg",
        "colab_type": "text"
      },
      "source": [
        "## Exploring the Data"
      ]
    },
    {
      "cell_type": "code",
      "metadata": {
        "id": "HoQtjnrFVpri",
        "colab_type": "code",
        "colab": {}
      },
      "source": [
        "# Imports\n",
        "import torch\n",
        "import torchvision\n",
        "from torchvision.datasets import MNIST"
      ],
      "execution_count": 0,
      "outputs": []
    },
    {
      "cell_type": "code",
      "metadata": {
        "id": "xS7eqDR_Vprm",
        "colab_type": "code",
        "colab": {}
      },
      "source": [
        "# Download training dataset\n",
        "dataset = MNIST(root='data/', download=True)"
      ],
      "execution_count": 0,
      "outputs": []
    },
    {
      "cell_type": "code",
      "metadata": {
        "id": "Ja1Ib-WlVprr",
        "colab_type": "code",
        "outputId": "b5004f57-ce2e-4956-864d-e529950ea3fe",
        "colab": {
          "base_uri": "https://localhost:8080/",
          "height": 35
        }
      },
      "source": [
        "len(dataset)"
      ],
      "execution_count": 122,
      "outputs": [
        {
          "output_type": "execute_result",
          "data": {
            "text/plain": [
              "60000"
            ]
          },
          "metadata": {
            "tags": []
          },
          "execution_count": 122
        }
      ]
    },
    {
      "cell_type": "code",
      "metadata": {
        "id": "0yfOxcRnVprv",
        "colab_type": "code",
        "outputId": "5621b507-51f4-416f-9503-ef9fcfa1a800",
        "colab": {
          "base_uri": "https://localhost:8080/",
          "height": 35
        }
      },
      "source": [
        "\n",
        "test_dataset = MNIST(root='data/', train=False)\n",
        "len(test_dataset)"
      ],
      "execution_count": 123,
      "outputs": [
        {
          "output_type": "execute_result",
          "data": {
            "text/plain": [
              "10000"
            ]
          },
          "metadata": {
            "tags": []
          },
          "execution_count": 123
        }
      ]
    },
    {
      "cell_type": "code",
      "metadata": {
        "id": "mjqyGn5PVprz",
        "colab_type": "code",
        "outputId": "5955f8aa-efb6-426f-a151-7dea6ca21eba",
        "colab": {
          "base_uri": "https://localhost:8080/",
          "height": 35
        }
      },
      "source": [
        "dataset[1]"
      ],
      "execution_count": 124,
      "outputs": [
        {
          "output_type": "execute_result",
          "data": {
            "text/plain": [
              "(<PIL.Image.Image image mode=L size=28x28 at 0x7F860CD2CC88>, 0)"
            ]
          },
          "metadata": {
            "tags": []
          },
          "execution_count": 124
        }
      ]
    },
    {
      "cell_type": "code",
      "metadata": {
        "id": "ivOJx2diVpr4",
        "colab_type": "code",
        "colab": {
          "base_uri": "https://localhost:8080/",
          "height": 283
        },
        "outputId": "2614cdcd-8ad8-42bd-e5a2-79228779d65a"
      },
      "source": [
        "import matplotlib.pyplot as plt\n",
        "%matplotlib inline\n",
        "image, label = dataset[1]\n",
        "plt.imshow(image, cmap='gray')\n",
        "print('Label:', label)"
      ],
      "execution_count": 125,
      "outputs": [
        {
          "output_type": "stream",
          "text": [
            "Label: 0\n"
          ],
          "name": "stdout"
        },
        {
          "output_type": "display_data",
          "data": {
            "image/png": "[encoded data removed]",
            "text/plain": [
              "<Figure size 432x288 with 1 Axes>"
            ]
          },
          "metadata": {
            "tags": [],
            "needs_background": "light"
          }
        }
      ]
    },
    {
      "cell_type": "code",
      "metadata": {
        "id": "3JnQzwpCVpr_",
        "colab_type": "code",
        "outputId": "d1e8247c-2816-4fff-803c-9b2233464cd6",
        "colab": {
          "base_uri": "https://localhost:8080/",
          "height": 283
        }
      },
      "source": [
        "image, label = dataset[12]\n",
        "plt.imshow(image, cmap='gray')\n",
        "print('Label:', label)"
      ],
      "execution_count": 126,
      "outputs": [
        {
          "output_type": "stream",
          "text": [
            "Label: 3\n"
          ],
          "name": "stdout"
        },
        {
          "output_type": "display_data",
          "data": {
            "image/png": "[encoded data removed]",
            "text/plain": [
              "<Figure size 432x288 with 1 Axes>"
            ]
          },
          "metadata": {
            "tags": [],
            "needs_background": "light"
          }
        }
      ]
    },
    {
      "cell_type": "markdown",
      "metadata": {
        "id": "v-8RVhOdVpsC",
        "colab_type": "text"
      },
      "source": [
        "Let us now convert them to tensor because we work with tensors in pytorch.\n"
      ]
    },
    {
      "cell_type": "code",
      "metadata": {
        "id": "We-nNMOzVpsC",
        "colab_type": "code",
        "colab": {}
      },
      "source": [
        "#Here we use transforms which helps us in converting the images to tensors.\n",
        "\n",
        "import torchvision.transforms as transforms"
      ],
      "execution_count": 0,
      "outputs": []
    },
    {
      "cell_type": "code",
      "metadata": {
        "id": "TfxTEreJVpsH",
        "colab_type": "code",
        "colab": {}
      },
      "source": [
        "# MNIST dataset (images and labels)\n",
        "dataset = MNIST(root='data/', \n",
        "                train=True,\n",
        "                transform=transforms.ToTensor())"
      ],
      "execution_count": 0,
      "outputs": []
    },
    {
      "cell_type": "code",
      "metadata": {
        "id": "C9IIq12HVpsK",
        "colab_type": "code",
        "outputId": "2782142a-9909-45ad-c4e8-9ad53c503d70",
        "colab": {
          "base_uri": "https://localhost:8080/",
          "height": 35
        }
      },
      "source": [
        "img_tensor, label = dataset[1]\n",
        "print(img_tensor.shape, label)"
      ],
      "execution_count": 129,
      "outputs": [
        {
          "output_type": "stream",
          "text": [
            "torch.Size([1, 28, 28]) 0\n"
          ],
          "name": "stdout"
        }
      ]
    },
    {
      "cell_type": "code",
      "metadata": {
        "id": "6jGG57VIVpsS",
        "colab_type": "code",
        "outputId": "0c87cf7d-b91f-4661-a5a7-faa385a9291e",
        "colab": {
          "base_uri": "https://localhost:8080/",
          "height": 106
        }
      },
      "source": [
        "print(img_tensor[:,10:14,9:15])\n",
        "print(torch.max(img_tensor), torch.min(img_tensor))"
      ],
      "execution_count": 130,
      "outputs": [
        {
          "output_type": "stream",
          "text": [
            "tensor([[[0.1882, 0.9333, 0.9882, 0.9882, 0.7020, 0.0471],\n",
            "         [0.6471, 0.9922, 0.9137, 0.8157, 0.3294, 0.0000],\n",
            "         [0.9882, 0.9412, 0.2784, 0.0745, 0.1098, 0.0000],\n",
            "         [0.9882, 0.2471, 0.0000, 0.0000, 0.0000, 0.0000]]])\n",
            "tensor(1.) tensor(0.)\n"
          ],
          "name": "stdout"
        }
      ]
    },
    {
      "cell_type": "code",
      "metadata": {
        "id": "P-ie9C-SVpsX",
        "colab_type": "code",
        "outputId": "cc27c1e6-cb98-404d-ca51-f7bd38c54307",
        "colab": {
          "base_uri": "https://localhost:8080/",
          "height": 219
        }
      },
      "source": [
        "# Plot the image by passing in the 28x28 matrix and we can see as it is grayscale we can get the specific values of pixels\n",
        "\n",
        "plt.imshow(img_tensor[0,10:14,9:17], cmap='gray');\n",
        "\n",
        "#cmap gray indicates it is a grayscale image"
      ],
      "execution_count": 131,
      "outputs": [
        {
          "output_type": "display_data",
          "data": {
            "image/png": "[encoded data removed]",
            "text/plain": [
              "<Figure size 432x288 with 1 Axes>"
            ]
          },
          "metadata": {
            "tags": [],
            "needs_background": "light"
          }
        }
      ]
    },
    {
      "cell_type": "code",
      "metadata": {
        "id": "AxKpRL1cVpsb",
        "colab_type": "code",
        "colab": {}
      },
      "source": [
        "import numpy as np\n",
        "\n",
        "def split_validation(n, fraction):\n",
        "    # Determine size of validation set\n",
        "    val_num = int(fraction*n)\n",
        "    idxs = np.random.permutation(n)\n",
        "    print(val_num)\n",
        "    print(idxs)\n",
        "    return idxs[val_num:], idxs[:val_num]"
      ],
      "execution_count": 0,
      "outputs": []
    },
    {
      "cell_type": "code",
      "metadata": {
        "id": "gRGLltTFVpsq",
        "colab_type": "code",
        "outputId": "398fa6cb-a8c1-4136-cee3-4149e9691efc",
        "colab": {
          "base_uri": "https://localhost:8080/",
          "height": 52
        }
      },
      "source": [
        "train_indices, val_indices = split_validation(len(dataset), fraction=0.2)"
      ],
      "execution_count": 133,
      "outputs": [
        {
          "output_type": "stream",
          "text": [
            "12000\n",
            "[15399 49814 26793 ... 31185 30927 32956]\n"
          ],
          "name": "stdout"
        }
      ]
    },
    {
      "cell_type": "markdown",
      "metadata": {
        "id": "WOu4dxzvZJka",
        "colab_type": "text"
      },
      "source": [
        "if you can observe the 12000 images are taken ie 20 percent out of 60000 and also the incides are taken at random to ensure all the digits in the MNIST dataset are availabe for validation set\n",
        "\n"
      ]
    },
    {
      "cell_type": "code",
      "metadata": {
        "id": "D9Z5FiybVpss",
        "colab_type": "code",
        "outputId": "5ec22744-1c71-4920-8866-2f697c3f0b16",
        "colab": {
          "base_uri": "https://localhost:8080/",
          "height": 70
        }
      },
      "source": [
        "print(len(train_indices), len(val_indices))\n",
        "print('Sample val indices: ', val_indices[:20])"
      ],
      "execution_count": 134,
      "outputs": [
        {
          "output_type": "stream",
          "text": [
            "48000 12000\n",
            "Sample val indices:  [15399 49814 26793 31112 41886 10494 28074  4522  5839 15309 54260 47072\n",
            " 23170 30433 52979 32235 36542 42412 27436 18446]\n"
          ],
          "name": "stdout"
        }
      ]
    },
    {
      "cell_type": "code",
      "metadata": {
        "id": "2w3kpYZCVpsv",
        "colab_type": "code",
        "colab": {}
      },
      "source": [
        "from torch.utils.data.sampler import SubsetRandomSampler\n",
        "from torch.utils.data.dataloader import DataLoader"
      ],
      "execution_count": 0,
      "outputs": []
    },
    {
      "cell_type": "code",
      "metadata": {
        "id": "7dCO0im_Vpsy",
        "colab_type": "code",
        "colab": {}
      },
      "source": [
        "batch_size=100\n",
        "\n",
        "'''\n",
        "batch size can be tuned as per the need. \n",
        "'''\n",
        "\n",
        "# Training sampler and data loader\n",
        "train_sampler = SubsetRandomSampler(train_indices)\n",
        "train_loader = DataLoader(dataset, \n",
        "                          batch_size, \n",
        "                          sampler=train_sampler)\n",
        "\n",
        "# Validation sampler and data loader\n",
        "val_sampler = SubsetRandomSampler(val_indices)\n",
        "val_loader = DataLoader(dataset,\n",
        "                        batch_size, \n",
        "                        sampler=val_sampler)"
      ],
      "execution_count": 0,
      "outputs": []
    },
    {
      "cell_type": "code",
      "metadata": {
        "id": "MbLtirmgVps2",
        "colab_type": "code",
        "colab": {}
      },
      "source": [
        "import torch.nn as nn\n",
        "\n",
        "input_size = 28*28\n",
        "num_classes = 10\n",
        "\n",
        "# Logistic regression model\n",
        "model = nn.Linear(input_size, num_classes)"
      ],
      "execution_count": 0,
      "outputs": []
    },
    {
      "cell_type": "code",
      "metadata": {
        "id": "l84SYX_PVps5",
        "colab_type": "code",
        "outputId": "54dbe98a-744e-4cc0-c1f9-f911ddce8e6e",
        "colab": {
          "base_uri": "https://localhost:8080/",
          "height": 195
        }
      },
      "source": [
        "print(model.weight.shape)\n",
        "model.weight"
      ],
      "execution_count": 140,
      "outputs": [
        {
          "output_type": "stream",
          "text": [
            "torch.Size([10, 784])\n"
          ],
          "name": "stdout"
        },
        {
          "output_type": "execute_result",
          "data": {
            "text/plain": [
              "Parameter containing:\n",
              "tensor([[-0.0102, -0.0326,  0.0161,  ...,  0.0339, -0.0081, -0.0230],\n",
              "        [ 0.0314,  0.0155, -0.0006,  ...,  0.0163, -0.0064, -0.0029],\n",
              "        [ 0.0043,  0.0133,  0.0038,  ..., -0.0036, -0.0301, -0.0054],\n",
              "        ...,\n",
              "        [-0.0038,  0.0311,  0.0074,  ...,  0.0093, -0.0271, -0.0070],\n",
              "        [-0.0028,  0.0034, -0.0171,  ..., -0.0106, -0.0162,  0.0236],\n",
              "        [-0.0194, -0.0083,  0.0029,  ..., -0.0219, -0.0125,  0.0065]],\n",
              "       requires_grad=True)"
            ]
          },
          "metadata": {
            "tags": []
          },
          "execution_count": 140
        }
      ]
    },
    {
      "cell_type": "code",
      "metadata": {
        "id": "6a9YJYMnVps7",
        "colab_type": "code",
        "outputId": "5ac104c4-ff46-4c77-998c-00aa48e7c61c",
        "colab": {
          "base_uri": "https://localhost:8080/",
          "height": 88
        }
      },
      "source": [
        "print(model.bias.shape)\n",
        "model.bias"
      ],
      "execution_count": 141,
      "outputs": [
        {
          "output_type": "stream",
          "text": [
            "torch.Size([10])\n"
          ],
          "name": "stdout"
        },
        {
          "output_type": "execute_result",
          "data": {
            "text/plain": [
              "Parameter containing:\n",
              "tensor([-0.0166, -0.0166,  0.0050, -0.0127, -0.0050,  0.0183,  0.0346,  0.0230,\n",
              "        -0.0124,  0.0300], requires_grad=True)"
            ]
          },
          "metadata": {
            "tags": []
          },
          "execution_count": 141
        }
      ]
    },
    {
      "cell_type": "markdown",
      "metadata": {
        "id": "72apM5L4cxrH",
        "colab_type": "text"
      },
      "source": [
        "Here we reshape the tensor because the dimesions are 1 * 28 * \n",
        "28 now they are to be flattened for which we use reshape as shown"
      ]
    },
    {
      "cell_type": "code",
      "metadata": {
        "id": "vjtG4cwYVptD",
        "colab_type": "code",
        "colab": {}
      },
      "source": [
        "class Model(nn.Module):\n",
        "    def __init__(self):\n",
        "        super().__init__()\n",
        "        self.linear = nn.Linear(input_size, num_classes)\n",
        "        \n",
        "    def forward(self, xb):\n",
        "        xb = xb.reshape(-1, 784)\n",
        "        out = self.linear(xb)\n",
        "        return out\n",
        "    \n",
        "model = Model()"
      ],
      "execution_count": 0,
      "outputs": []
    },
    {
      "cell_type": "code",
      "metadata": {
        "id": "LvjF2DjLVptF",
        "colab_type": "code",
        "outputId": "d4e85bf6-595d-439b-b5f3-ece6e6e14ae0",
        "colab": {
          "base_uri": "https://localhost:8080/",
          "height": 230
        }
      },
      "source": [
        "print(model.linear.weight.shape, model.linear.bias.shape)\n",
        "list(model.parameters())"
      ],
      "execution_count": 143,
      "outputs": [
        {
          "output_type": "stream",
          "text": [
            "torch.Size([10, 784]) torch.Size([10])\n"
          ],
          "name": "stdout"
        },
        {
          "output_type": "execute_result",
          "data": {
            "text/plain": [
              "[Parameter containing:\n",
              " tensor([[-0.0221,  0.0007, -0.0158,  ...,  0.0224,  0.0174, -0.0132],\n",
              "         [-0.0351,  0.0074,  0.0316,  ...,  0.0253,  0.0219,  0.0139],\n",
              "         [-0.0251,  0.0236, -0.0190,  ..., -0.0017,  0.0263,  0.0181],\n",
              "         ...,\n",
              "         [ 0.0197,  0.0234,  0.0346,  ...,  0.0019, -0.0139,  0.0033],\n",
              "         [-0.0140, -0.0284, -0.0195,  ..., -0.0184,  0.0064,  0.0037],\n",
              "         [ 0.0243,  0.0128,  0.0327,  ...,  0.0286, -0.0226, -0.0247]],\n",
              "        requires_grad=True), Parameter containing:\n",
              " tensor([ 0.0210, -0.0297,  0.0123, -0.0192,  0.0021,  0.0242,  0.0102, -0.0112,\n",
              "          0.0241,  0.0042], requires_grad=True)]"
            ]
          },
          "metadata": {
            "tags": []
          },
          "execution_count": 143
        }
      ]
    },
    {
      "cell_type": "code",
      "metadata": {
        "id": "SfnWsmA2VptI",
        "colab_type": "code",
        "outputId": "8677c4cd-6281-45f0-e743-e9659d26603d",
        "colab": {
          "base_uri": "https://localhost:8080/",
          "height": 230
        }
      },
      "source": [
        "for images, labels in train_loader:\n",
        "    outputs = model(images)\n",
        "    break\n",
        "\n",
        "print('outputs.shape : ', outputs.shape)\n",
        "print('Sample outputs :\\n', outputs[:5].data)"
      ],
      "execution_count": 148,
      "outputs": [
        {
          "output_type": "stream",
          "text": [
            "outputs.shape :  torch.Size([100, 10])\n",
            "Sample outputs :\n",
            " tensor([[-0.0257, -0.0937,  0.1387, -0.4279,  0.3868, -0.1645, -0.0432,  0.2335,\n",
            "         -0.1849, -0.0913],\n",
            "        [-0.1083, -0.3000, -0.1067,  0.0302, -0.0412, -0.0492,  0.0525,  0.0392,\n",
            "          0.3394,  0.0675],\n",
            "        [-0.1620, -0.4970,  0.1444, -0.3530,  0.0570, -0.1881, -0.2915,  0.1257,\n",
            "          0.0782, -0.0394],\n",
            "        [-0.1877, -0.3296,  0.2623, -0.1972, -0.1002, -0.2365, -0.2917,  0.1328,\n",
            "         -0.1088,  0.1051],\n",
            "        [-0.0241, -0.2433,  0.2633, -0.1702, -0.1804, -0.2394, -0.0915, -0.0183,\n",
            "          0.2171,  0.1386]])\n"
          ],
          "name": "stdout"
        }
      ]
    },
    {
      "cell_type": "code",
      "metadata": {
        "id": "2_JUSlUfVptM",
        "colab_type": "code",
        "colab": {}
      },
      "source": [
        "import torch.nn.functional as F"
      ],
      "execution_count": 0,
      "outputs": []
    },
    {
      "cell_type": "code",
      "metadata": {
        "id": "xu80NNzNVptP",
        "colab_type": "code",
        "outputId": "4b037b31-bfae-4d57-910a-3f372cf1bef8",
        "colab": {
          "base_uri": "https://localhost:8080/",
          "height": 301
        }
      },
      "source": [
        "# Apply softmax for each output row\n",
        "probs = F.softmax(outputs, dim=1)\n",
        "print(probs[:5])\n",
        "\n",
        "# Look at sample probabilities\n",
        "print(\"Sample probabilities:\\n\", probs[:2].data)\n",
        "\n",
        "# Add up the probabilities of an output row\n",
        "print(\"Sum: \", torch.sum(probs[0]).item())"
      ],
      "execution_count": 150,
      "outputs": [
        {
          "output_type": "stream",
          "text": [
            "tensor([[0.0977, 0.0913, 0.1152, 0.0654, 0.1477, 0.0851, 0.0960, 0.1267, 0.0834,\n",
            "         0.0915],\n",
            "        [0.0893, 0.0737, 0.0895, 0.1026, 0.0955, 0.0948, 0.1049, 0.1035, 0.1398,\n",
            "         0.1065],\n",
            "        [0.0932, 0.0667, 0.1266, 0.0770, 0.1160, 0.0908, 0.0819, 0.1242, 0.1185,\n",
            "         0.1053],\n",
            "        [0.0895, 0.0777, 0.1404, 0.0887, 0.0977, 0.0853, 0.0807, 0.1233, 0.0969,\n",
            "         0.1200],\n",
            "        [0.0995, 0.0799, 0.1326, 0.0860, 0.0851, 0.0802, 0.0930, 0.1001, 0.1266,\n",
            "         0.1171]], grad_fn=<SliceBackward>)\n",
            "Sample probabilities:\n",
            " tensor([[0.0977, 0.0913, 0.1152, 0.0654, 0.1477, 0.0851, 0.0960, 0.1267, 0.0834,\n",
            "         0.0915],\n",
            "        [0.0893, 0.0737, 0.0895, 0.1026, 0.0955, 0.0948, 0.1049, 0.1035, 0.1398,\n",
            "         0.1065]])\n",
            "Sum:  1.0\n"
          ],
          "name": "stdout"
        }
      ]
    },
    {
      "cell_type": "code",
      "metadata": {
        "id": "64IM8MtRVptR",
        "colab_type": "code",
        "outputId": "b0717509-eb41-4891-e4df-b3c5c586a6f7",
        "colab": {
          "base_uri": "https://localhost:8080/",
          "height": 319
        }
      },
      "source": [
        "max_probs, preds = torch.max(probs, dim=1)\n",
        "print(preds)\n",
        "print(max_probs)"
      ],
      "execution_count": 151,
      "outputs": [
        {
          "output_type": "stream",
          "text": [
            "tensor([4, 8, 2, 2, 2, 9, 7, 2, 2, 7, 7, 2, 0, 2, 7, 2, 9, 5, 7, 2, 2, 7, 2, 2,\n",
            "        2, 7, 2, 2, 2, 2, 0, 2, 5, 2, 2, 2, 2, 2, 9, 7, 5, 9, 3, 7, 2, 2, 9, 9,\n",
            "        7, 2, 2, 2, 2, 9, 2, 0, 2, 2, 2, 3, 8, 2, 7, 9, 8, 2, 2, 7, 5, 4, 9, 2,\n",
            "        2, 7, 7, 7, 8, 5, 2, 2, 2, 2, 0, 7, 4, 2, 2, 2, 2, 5, 2, 7, 5, 8, 2, 2,\n",
            "        7, 9, 7, 9])\n",
            "tensor([0.1477, 0.1398, 0.1266, 0.1404, 0.1326, 0.1491, 0.1460, 0.1202, 0.2012,\n",
            "        0.1177, 0.1212, 0.1274, 0.1106, 0.1405, 0.1322, 0.1256, 0.1258, 0.1159,\n",
            "        0.1370, 0.1369, 0.1298, 0.1332, 0.1106, 0.1674, 0.1307, 0.1202, 0.1267,\n",
            "        0.1330, 0.1287, 0.1420, 0.1206, 0.1520, 0.1281, 0.1468, 0.1249, 0.1376,\n",
            "        0.1284, 0.1306, 0.1228, 0.1180, 0.1174, 0.1252, 0.1150, 0.1162, 0.1305,\n",
            "        0.1580, 0.1388, 0.1302, 0.1285, 0.1487, 0.1462, 0.1425, 0.1129, 0.1255,\n",
            "        0.1443, 0.1155, 0.1332, 0.1230, 0.1500, 0.1156, 0.1228, 0.1171, 0.1238,\n",
            "        0.1515, 0.1217, 0.1315, 0.1281, 0.1314, 0.1215, 0.1732, 0.1272, 0.1396,\n",
            "        0.1406, 0.1301, 0.1381, 0.1362, 0.1355, 0.1183, 0.1734, 0.1298, 0.1550,\n",
            "        0.1629, 0.1171, 0.1267, 0.1243, 0.1419, 0.1388, 0.1262, 0.1170, 0.1128,\n",
            "        0.1213, 0.1204, 0.1234, 0.1265, 0.1355, 0.1367, 0.1193, 0.1392, 0.1345,\n",
            "        0.1340], grad_fn=<MaxBackward0>)\n"
          ],
          "name": "stdout"
        }
      ]
    },
    {
      "cell_type": "code",
      "metadata": {
        "id": "dPDHOYgNVptU",
        "colab_type": "code",
        "outputId": "7b2e9a02-fa94-4012-894b-b26d3fef47ea",
        "colab": {
          "base_uri": "https://localhost:8080/",
          "height": 106
        }
      },
      "source": [
        "\n",
        "#Original Labels\n",
        "labels"
      ],
      "execution_count": 152,
      "outputs": [
        {
          "output_type": "execute_result",
          "data": {
            "text/plain": [
              "tensor([5, 7, 7, 9, 2, 0, 8, 7, 5, 2, 9, 9, 1, 3, 5, 9, 5, 6, 2, 8, 0, 8, 9, 5,\n",
              "        8, 9, 7, 2, 0, 8, 9, 8, 5, 0, 8, 3, 0, 1, 6, 2, 6, 3, 1, 6, 3, 4, 0, 6,\n",
              "        6, 7, 4, 4, 2, 8, 5, 2, 9, 2, 4, 1, 8, 3, 3, 0, 5, 1, 3, 4, 5, 0, 6, 7,\n",
              "        1, 7, 7, 7, 9, 6, 9, 5, 0, 4, 7, 4, 8, 2, 8, 8, 1, 9, 6, 7, 2, 9, 3, 2,\n",
              "        6, 3, 9, 3])"
            ]
          },
          "metadata": {
            "tags": []
          },
          "execution_count": 152
        }
      ]
    },
    {
      "cell_type": "markdown",
      "metadata": {
        "id": "4HfQs9gJVptW",
        "colab_type": "text"
      },
      "source": [
        "## Evaluation Metric and Loss Function"
      ]
    },
    {
      "cell_type": "code",
      "metadata": {
        "id": "Cg_wI8xuVptY",
        "colab_type": "code",
        "colab": {}
      },
      "source": [
        "#defining basic accuracy funtion ie no of labels matched by total no of labels\n",
        "\n",
        "def accuracy(l1, l2):\n",
        "    return torch.sum(l1 == l2).item() / len(l1)"
      ],
      "execution_count": 0,
      "outputs": []
    },
    {
      "cell_type": "code",
      "metadata": {
        "id": "EK3WZQm1Vptb",
        "colab_type": "code",
        "outputId": "e144d2ad-912f-45a1-9b18-38c771c3065f",
        "colab": {
          "base_uri": "https://localhost:8080/",
          "height": 35
        }
      },
      "source": [
        "accuracy(preds, labels)"
      ],
      "execution_count": 155,
      "outputs": [
        {
          "output_type": "execute_result",
          "data": {
            "text/plain": [
              "0.13"
            ]
          },
          "metadata": {
            "tags": []
          },
          "execution_count": 155
        }
      ]
    },
    {
      "cell_type": "code",
      "metadata": {
        "id": "68ZkljlRVpte",
        "colab_type": "code",
        "colab": {}
      },
      "source": [
        "loss_fn = F.cross_entropy"
      ],
      "execution_count": 0,
      "outputs": []
    },
    {
      "cell_type": "code",
      "metadata": {
        "id": "HXYIpSGlVptg",
        "colab_type": "code",
        "outputId": "8aba4884-28e2-4c45-d5ec-202b0b1c9b0b",
        "colab": {
          "base_uri": "https://localhost:8080/",
          "height": 35
        }
      },
      "source": [
        "# Loss for current batch of data\n",
        "loss = loss_fn(outputs, labels)\n",
        "print(loss)"
      ],
      "execution_count": 157,
      "outputs": [
        {
          "output_type": "stream",
          "text": [
            "tensor(2.3179, grad_fn=<NllLossBackward>)\n"
          ],
          "name": "stdout"
        }
      ]
    },
    {
      "cell_type": "code",
      "metadata": {
        "id": "9FectAYwVptk",
        "colab_type": "code",
        "colab": {}
      },
      "source": [
        "learning_rate = 0.001\n",
        "optimizer = torch.optim.SGD(model.parameters(), lr=learning_rate)"
      ],
      "execution_count": 0,
      "outputs": []
    },
    {
      "cell_type": "code",
      "metadata": {
        "id": "uyzBLM7JVptp",
        "colab_type": "code",
        "colab": {}
      },
      "source": [
        "def loss_batch(model, loss_func, xb, yb, opt=None, metric=None):\n",
        "    # Calculate loss\n",
        "    preds = model(xb)\n",
        "    loss = loss_func(preds, yb)\n",
        "                     \n",
        "    if opt is not None:\n",
        "        # Compute gradients\n",
        "        loss.backward()\n",
        "        # Update parameters             \n",
        "        opt.step()\n",
        "        # Reset gradients\n",
        "        opt.zero_grad()\n",
        "    \n",
        "    metric_result = None\n",
        "    if metric is not None:\n",
        "        # Compute the metric\n",
        "        metric_result = metric(preds, yb)\n",
        "    \n",
        "    return loss.item(), len(xb), metric_result"
      ],
      "execution_count": 0,
      "outputs": []
    },
    {
      "cell_type": "code",
      "metadata": {
        "id": "KRGbZ-7XVptt",
        "colab_type": "code",
        "colab": {}
      },
      "source": [
        "def evaluate(model, loss_fn, valid_dl, metric=None):\n",
        "    with torch.no_grad():\n",
        "        # Pass each batch through the model\n",
        "        results = [loss_batch(model, loss_fn, xb, yb, metric=metric)\n",
        "                   for xb,yb in valid_dl]\n",
        "        # Separate losses, counts and metrics\n",
        "        losses, nums, metrics = zip(*results)\n",
        "        # Total size of the dataset\n",
        "        total = np.sum(nums)\n",
        "        # Avg. loss across batches \n",
        "        avg_loss = np.sum(np.multiply(losses, nums)) / total\n",
        "        avg_metric = None\n",
        "        if metric is not None:\n",
        "            # Avg. of metric across batches\n",
        "            avg_metric = np.sum(np.multiply(metrics, nums)) / total\n",
        "    return avg_loss, total, avg_metric"
      ],
      "execution_count": 0,
      "outputs": []
    },
    {
      "cell_type": "code",
      "metadata": {
        "id": "DJSqtnZjVptw",
        "colab_type": "code",
        "colab": {}
      },
      "source": [
        "def accuracy(outputs, labels):\n",
        "    _, preds = torch.max(outputs, dim=1)\n",
        "    return torch.sum(preds == labels).item() / len(preds)"
      ],
      "execution_count": 0,
      "outputs": []
    },
    {
      "cell_type": "code",
      "metadata": {
        "id": "2M0k3OGRVptz",
        "colab_type": "code",
        "outputId": "f2ab49dd-b992-45c2-ac82-875f90ab3644",
        "colab": {
          "base_uri": "https://localhost:8080/",
          "height": 35
        }
      },
      "source": [
        "val_loss, total, val_acc = evaluate(model, loss_fn, val_loader, metric=accuracy)\n",
        "print('Loss: {:.4f}, Accuracy: {:.4f}'.format(val_loss, val_acc))"
      ],
      "execution_count": 165,
      "outputs": [
        {
          "output_type": "stream",
          "text": [
            "Loss: 2.3042, Accuracy: 0.0922\n"
          ],
          "name": "stdout"
        }
      ]
    },
    {
      "cell_type": "code",
      "metadata": {
        "id": "TGUWnrJ2Vpt3",
        "colab_type": "code",
        "colab": {}
      },
      "source": [
        "#just like we have seen in linear regression the same fit function we r using here.\n",
        "\n",
        "\n",
        "def fit(epochs, model, loss_fn, opt, train_dl, valid_dl, metric=None):\n",
        "    for epoch in range(epochs):\n",
        "        # Training\n",
        "        for xb,yb in train_dl:\n",
        "            loss,_,_ = loss_batch(model, loss_fn, xb, yb, opt)\n",
        "\n",
        "        # Evaluation\n",
        "        result = evaluate(model, loss_fn, valid_dl, metric)\n",
        "        val_loss, total, val_metric = result\n",
        "        \n",
        "        # Print progress\n",
        "        if metric is None:\n",
        "            print('Epoch [{}/{}], Loss: {:.4f}'\n",
        "                  .format(epoch+1, epochs, val_loss))\n",
        "        else:\n",
        "            print('Epoch [{}/{}], Loss: {:.4f}, {}: {:.4f}'\n",
        "                  .format(epoch+1, epochs, val_loss, metric.__name__, val_metric))"
      ],
      "execution_count": 0,
      "outputs": []
    },
    {
      "cell_type": "code",
      "metadata": {
        "id": "vlPqk_-dVpt6",
        "colab_type": "code",
        "colab": {}
      },
      "source": [
        "# Redifine model and optimizer\n",
        "model = Model()\n",
        "optimizer = torch.optim.SGD(model.parameters(), lr=learning_rate)"
      ],
      "execution_count": 0,
      "outputs": []
    },
    {
      "cell_type": "code",
      "metadata": {
        "id": "S_RWFCCCVpt8",
        "colab_type": "code",
        "outputId": "5fde7190-8cee-40cf-d844-af18390acde7",
        "colab": {
          "base_uri": "https://localhost:8080/",
          "height": 124
        }
      },
      "source": [
        "fit(6, model, F.cross_entropy, optimizer, train_loader, val_loader, accuracy)"
      ],
      "execution_count": 168,
      "outputs": [
        {
          "output_type": "stream",
          "text": [
            "Epoch [1/6], Loss: 1.8859, accuracy: 0.6750\n",
            "Epoch [2/6], Loss: 1.5820, accuracy: 0.7546\n",
            "Epoch [3/6], Loss: 1.3686, accuracy: 0.7842\n",
            "Epoch [4/6], Loss: 1.2154, accuracy: 0.8019\n",
            "Epoch [5/6], Loss: 1.1021, accuracy: 0.8156\n",
            "Epoch [6/6], Loss: 1.0156, accuracy: 0.8219\n"
          ],
          "name": "stdout"
        }
      ]
    },
    {
      "cell_type": "code",
      "metadata": {
        "id": "zuWAIppCVpt_",
        "colab_type": "code",
        "outputId": "0cf9ecd7-22c9-43be-85c4-536b4adbb95c",
        "colab": {
          "base_uri": "https://localhost:8080/",
          "height": 106
        }
      },
      "source": [
        "fit(5, model, F.cross_entropy, optimizer, train_loader, val_loader, accuracy)"
      ],
      "execution_count": 169,
      "outputs": [
        {
          "output_type": "stream",
          "text": [
            "Epoch [1/5], Loss: 0.9475, accuracy: 0.8284\n",
            "Epoch [2/5], Loss: 0.8926, accuracy: 0.8325\n",
            "Epoch [3/5], Loss: 0.8474, accuracy: 0.8367\n",
            "Epoch [4/5], Loss: 0.8095, accuracy: 0.8411\n",
            "Epoch [5/5], Loss: 0.7773, accuracy: 0.8448\n"
          ],
          "name": "stdout"
        }
      ]
    },
    {
      "cell_type": "code",
      "metadata": {
        "id": "InGjp8yAVpuH",
        "colab_type": "code",
        "outputId": "b7ec5118-320a-4f8e-b2a4-5912bd297e9f",
        "colab": {
          "base_uri": "https://localhost:8080/",
          "height": 295
        }
      },
      "source": [
        "#plot the above accuracies \n",
        "#take ur accuracies here\n",
        "#accuracies=[]\n",
        "plt.plot(accuracies, '-x')\n",
        "plt.xlabel('epoch')\n",
        "plt.ylabel('accuracy')\n",
        "plt.title('Accuracy vs. No. of epochs');"
      ],
      "execution_count": 50,
      "outputs": [
        {
          "output_type": "display_data",
          "data": {
            "image/png": "[encoded data removed]",
            "text/plain": [
              "<Figure size 432x288 with 1 Axes>"
            ]
          },
          "metadata": {
            "tags": [],
            "needs_background": "light"
          }
        }
      ]
    },
    {
      "cell_type": "markdown",
      "metadata": {
        "id": "8G3LKy-QVpuK",
        "colab_type": "text"
      },
      "source": [
        "## Testing with individual images"
      ]
    },
    {
      "cell_type": "code",
      "metadata": {
        "id": "u0Twf7nIVpuV",
        "colab_type": "code",
        "colab": {}
      },
      "source": [
        "# Define test dataset\n",
        "test_dataset = MNIST(root='data/', \n",
        "                     train=False,\n",
        "                     transform=transforms.ToTensor())"
      ],
      "execution_count": 0,
      "outputs": []
    },
    {
      "cell_type": "code",
      "metadata": {
        "id": "KBoiKKTdVpuX",
        "colab_type": "code",
        "outputId": "13ee2c1f-5fc2-4312-804f-d3d006c1cb4e",
        "colab": {
          "base_uri": "https://localhost:8080/",
          "height": 301
        }
      },
      "source": [
        "img, label = test_dataset[1]\n",
        "plt.imshow(img[0], cmap='gray')\n",
        "print('Shape:', img.shape)\n",
        "print('Label:', label)"
      ],
      "execution_count": 106,
      "outputs": [
        {
          "output_type": "stream",
          "text": [
            "Shape: torch.Size([1, 28, 28])\n",
            "Label: 7\n"
          ],
          "name": "stdout"
        },
        {
          "output_type": "display_data",
          "data": {
            "image/png": "[encoded data removed]",
            "text/plain": [
              "<Figure size 432x288 with 1 Axes>"
            ]
          },
          "metadata": {
            "tags": [],
            "needs_background": "light"
          }
        }
      ]
    },
    {
      "cell_type": "code",
      "metadata": {
        "id": "wTxa3s7OVpub",
        "colab_type": "code",
        "outputId": "9a2d6bb7-f01b-45cd-f9aa-c893798ad7f5",
        "colab": {
          "base_uri": "https://localhost:8080/",
          "height": 35
        }
      },
      "source": [
        "img.unsqueeze(0).shape"
      ],
      "execution_count": 107,
      "outputs": [
        {
          "output_type": "execute_result",
          "data": {
            "text/plain": [
              "torch.Size([1, 1, 28, 28])"
            ]
          },
          "metadata": {
            "tags": []
          },
          "execution_count": 107
        }
      ]
    },
    {
      "cell_type": "code",
      "metadata": {
        "id": "6KhEZlCyVpue",
        "colab_type": "code",
        "colab": {}
      },
      "source": [
        "def predict_image(img, model):\n",
        "    xb = img.unsqueeze(0)\n",
        "    yb = model(xb)\n",
        "    _, preds  = torch.max(yb, dim=1)\n",
        "    return preds[0].item()"
      ],
      "execution_count": 0,
      "outputs": []
    },
    {
      "cell_type": "code",
      "metadata": {
        "id": "c48rKOMFVpui",
        "colab_type": "code",
        "outputId": "4ff13742-112c-4e05-d516-82ca1b6c4410",
        "colab": {
          "base_uri": "https://localhost:8080/",
          "height": 283
        }
      },
      "source": [
        "img, label = test_dataset[0]\n",
        "plt.imshow(img[0], cmap='gray')\n",
        "print('Label:', label, ', Predicted:', predict_image(img, model))"
      ],
      "execution_count": 109,
      "outputs": [
        {
          "output_type": "stream",
          "text": [
            "Label: 7 , Predicted: 7\n"
          ],
          "name": "stdout"
        },
        {
          "output_type": "display_data",
          "data": {
            "image/png": "[encoded data removed]",
            "text/plain": [
              "<Figure size 432x288 with 1 Axes>"
            ]
          },
          "metadata": {
            "tags": [],
            "needs_background": "light"
          }
        }
      ]
    },
    {
      "cell_type": "code",
      "metadata": {
        "id": "VhwXuTpFVpuj",
        "colab_type": "code",
        "outputId": "a524b5c5-7755-4a16-b987-c16e368dcf97",
        "colab": {
          "base_uri": "https://localhost:8080/",
          "height": 283
        }
      },
      "source": [
        "img, label = test_dataset[10]\n",
        "plt.imshow(img[0], cmap='gray')\n",
        "print('Label:', label, ', Predicted:', predict_image(img, model))"
      ],
      "execution_count": 110,
      "outputs": [
        {
          "output_type": "stream",
          "text": [
            "Label: 0 , Predicted: 0\n"
          ],
          "name": "stdout"
        },
        {
          "output_type": "display_data",
          "data": {
            "image/png": "[encoded data removed]",
            "text/plain": [
              "<Figure size 432x288 with 1 Axes>"
            ]
          },
          "metadata": {
            "tags": [],
            "needs_background": "light"
          }
        }
      ]
    },
    {
      "cell_type": "code",
      "metadata": {
        "id": "UAfAzoX9Vpul",
        "colab_type": "code",
        "outputId": "19910523-34da-4cd6-eb15-ad40220642a0",
        "colab": {
          "base_uri": "https://localhost:8080/",
          "height": 283
        }
      },
      "source": [
        "img, label = test_dataset[20]\n",
        "plt.imshow(img[0], cmap='gray')\n",
        "print('Label:', label, ', Predicted:', predict_image(img, model))"
      ],
      "execution_count": 112,
      "outputs": [
        {
          "output_type": "stream",
          "text": [
            "Label: 9 , Predicted: 7\n"
          ],
          "name": "stdout"
        },
        {
          "output_type": "display_data",
          "data": {
            "image/png": "[encoded data removed]",
            "text/plain": [
              "<Figure size 432x288 with 1 Axes>"
            ]
          },
          "metadata": {
            "tags": [],
            "needs_background": "light"
          }
        }
      ]
    },
    {
      "cell_type": "code",
      "metadata": {
        "id": "Pg4bFpRvVpum",
        "colab_type": "code",
        "outputId": "8aab8e0e-33de-49e4-937c-1c492f1a4b3f",
        "colab": {
          "base_uri": "https://localhost:8080/",
          "height": 283
        }
      },
      "source": [
        "img, label = test_dataset[100]\n",
        "plt.imshow(img[0], cmap='gray')\n",
        "print('Label:', label, ', Predicted:', predict_image(img, model))"
      ],
      "execution_count": 113,
      "outputs": [
        {
          "output_type": "stream",
          "text": [
            "Label: 6 , Predicted: 6\n"
          ],
          "name": "stdout"
        },
        {
          "output_type": "display_data",
          "data": {
            "image/png": "[encoded data removed]",
            "text/plain": [
              "<Figure size 432x288 with 1 Axes>"
            ]
          },
          "metadata": {
            "tags": [],
            "needs_background": "light"
          }
        }
      ]
    },
    {
      "cell_type": "code",
      "metadata": {
        "id": "UWBIqyCeVpuo",
        "colab_type": "code",
        "outputId": "9774c626-cde4-406b-c934-245dc106f4cc",
        "colab": {
          "base_uri": "https://localhost:8080/",
          "height": 35
        }
      },
      "source": [
        "test_loader = DataLoader(test_dataset, batch_size=300)\n",
        "\n",
        "test_loss, total, test_acc = evaluate(model, loss_fn, test_loader, metric=accuracy)\n",
        "print('Loss: {:.4f}, Accuracy: {:.4f}'.format(test_loss, test_acc))"
      ],
      "execution_count": 115,
      "outputs": [
        {
          "output_type": "stream",
          "text": [
            "Loss: 1.0784, Accuracy: 0.8196\n"
          ],
          "name": "stdout"
        }
      ]
    },
    {
      "cell_type": "markdown",
      "metadata": {
        "id": "SKjSGe3pVpus",
        "colab_type": "text"
      },
      "source": [
        "## Saving and loading the model"
      ]
    },
    {
      "cell_type": "code",
      "metadata": {
        "id": "a28P_HNxVput",
        "colab_type": "code",
        "colab": {}
      },
      "source": [
        "#this saves all the models weights and biases.\n",
        "\n",
        "torch.save(model.state_dict(), 'mnist-logistic.pth')"
      ],
      "execution_count": 0,
      "outputs": []
    },
    {
      "cell_type": "code",
      "metadata": {
        "id": "RRMcNgx7Vpuu",
        "colab_type": "code",
        "outputId": "5e7d2471-bad6-4f06-e92c-b8ce8b114c59",
        "colab": {
          "base_uri": "https://localhost:8080/",
          "height": 212
        }
      },
      "source": [
        "model.state_dict()"
      ],
      "execution_count": 171,
      "outputs": [
        {
          "output_type": "execute_result",
          "data": {
            "text/plain": [
              "OrderedDict([('linear.weight',\n",
              "              tensor([[-0.0270,  0.0025, -0.0136,  ...,  0.0286, -0.0357,  0.0206],\n",
              "                      [ 0.0262,  0.0283,  0.0099,  ...,  0.0100, -0.0238, -0.0273],\n",
              "                      [ 0.0051, -0.0330, -0.0069,  ...,  0.0138,  0.0285,  0.0137],\n",
              "                      ...,\n",
              "                      [ 0.0065,  0.0229, -0.0017,  ..., -0.0130,  0.0287,  0.0130],\n",
              "                      [ 0.0200,  0.0293,  0.0225,  ..., -0.0310, -0.0332,  0.0232],\n",
              "                      [ 0.0078, -0.0054,  0.0171,  ..., -0.0162,  0.0213,  0.0045]])),\n",
              "             ('linear.bias',\n",
              "              tensor([-0.0497,  0.0760, -0.0433, -0.0513,  0.0157,  0.0388, -0.0006,  0.0165,\n",
              "                      -0.0544, -0.0233]))])"
            ]
          },
          "metadata": {
            "tags": []
          },
          "execution_count": 171
        }
      ]
    },
    {
      "cell_type": "markdown",
      "metadata": {
        "id": "6fBGDbRWVpuw",
        "colab_type": "text"
      },
      "source": [
        "To load the model weights, we can instante a new object of the class `Model`, and use the `.load_state_dict` method."
      ]
    },
    {
      "cell_type": "code",
      "metadata": {
        "id": "tefPKVfGVpuw",
        "colab_type": "code",
        "outputId": "db57cde3-7541-4f45-86c8-1ac4e801af9b",
        "colab": {
          "base_uri": "https://localhost:8080/",
          "height": 212
        }
      },
      "source": [
        "model2 = Model()\n",
        "model2.load_state_dict(torch.load('mnist-logistic.pth'))\n",
        "model2.state_dict()"
      ],
      "execution_count": 172,
      "outputs": [
        {
          "output_type": "execute_result",
          "data": {
            "text/plain": [
              "OrderedDict([('linear.weight',\n",
              "              tensor([[-0.0270,  0.0025, -0.0136,  ...,  0.0286, -0.0357,  0.0206],\n",
              "                      [ 0.0262,  0.0283,  0.0099,  ...,  0.0100, -0.0238, -0.0273],\n",
              "                      [ 0.0051, -0.0330, -0.0069,  ...,  0.0138,  0.0285,  0.0137],\n",
              "                      ...,\n",
              "                      [ 0.0065,  0.0229, -0.0017,  ..., -0.0130,  0.0287,  0.0130],\n",
              "                      [ 0.0200,  0.0293,  0.0225,  ..., -0.0310, -0.0332,  0.0232],\n",
              "                      [ 0.0078, -0.0054,  0.0171,  ..., -0.0162,  0.0213,  0.0045]])),\n",
              "             ('linear.bias',\n",
              "              tensor([-0.0497,  0.0760, -0.0433, -0.0513,  0.0157,  0.0388, -0.0006,  0.0165,\n",
              "                      -0.0544, -0.0233]))])"
            ]
          },
          "metadata": {
            "tags": []
          },
          "execution_count": 172
        }
      ]
    },
    {
      "cell_type": "code",
      "metadata": {
        "id": "9K1tnAKCVpu0",
        "colab_type": "code",
        "outputId": "69d193f0-ddee-44df-f60e-1d35acd6e036",
        "colab": {
          "base_uri": "https://localhost:8080/",
          "height": 35
        }
      },
      "source": [
        "test_loss, total, test_acc = evaluate(model, loss_fn, test_loader, metric=accuracy)\n",
        "print('Loss: {:.4f}, Accuracy: {:.4f}'.format(test_loss, test_acc))"
      ],
      "execution_count": 173,
      "outputs": [
        {
          "output_type": "stream",
          "text": [
            "Loss: 0.7556, Accuracy: 0.8509\n"
          ],
          "name": "stdout"
        }
      ]
    },
    {
      "cell_type": "markdown",
      "metadata": {
        "id": "lU5JrYdze9zx",
        "colab_type": "text"
      },
      "source": [
        "yes...Thats the same loss as above.so there you go sanity chck is also completed."
      ]
    },
    {
      "cell_type": "markdown",
      "metadata": {
        "id": "-bm3Yt7whN_m",
        "colab_type": "text"
      },
      "source": [
        "Kudos,We have completed learning of implementing logistic regression too using mnist dataset."
      ]
    }
  ]
}